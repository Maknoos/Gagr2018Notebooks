{
 "cells": [
  {
   "cell_type": "markdown",
   "metadata": {
    "collapsed": true
   },
   "source": [
    "# D03 Linear Algebra and Statistics"
   ]
  },
  {
   "cell_type": "markdown",
   "metadata": {},
   "source": [
    "## Linear Algebra"
   ]
  },
  {
   "cell_type": "markdown",
   "metadata": {},
   "source": [
    "#### Exercise 1\n",
    "Write a function `translate(v, B)` that takes in a vector `v` and a list of basis vectors and returns the transformation matrix that translates `v` to it's coordinates with respect to `B`."
   ]
  },
  {
   "cell_type": "code",
   "execution_count": 1,
   "metadata": {
    "collapsed": true
   },
   "outputs": [],
   "source": [
    "import numpy as np\n",
    "def translate(v, B):\n",
    "    return [ [B[0][0], B[1][0]], [B[0][1], B[1][1] ]]"
   ]
  },
  {
   "cell_type": "markdown",
   "metadata": {},
   "source": [
    "#### Exercise 2\n",
    "Write a function `rotate(v, degrees)` that returns the transformation matrix for rotating `v` `degrees` degrees counterclockwise around origin."
   ]
  },
  {
   "cell_type": "code",
   "execution_count": 2,
   "metadata": {
    "collapsed": true
   },
   "outputs": [],
   "source": [
    "def rotate(v, degrees):\n",
    "    return np.dot([ [np.cos(np.radians(degrees)), -np.sin(np.radians(degrees))], [np.sin(np.radians(degrees)), np.cos(np.radians(degrees)) ] ], v)"
   ]
  },
  {
   "cell_type": "markdown",
   "metadata": {},
   "source": [
    "#### Exercise 3\n",
    "Write a function `rotateorg(origin, point, degrees)` that rotates the point `point` `deg` degrees around the point `origin`."
   ]
  },
  {
   "cell_type": "code",
   "execution_count": 3,
   "metadata": {
    "collapsed": true
   },
   "outputs": [],
   "source": [
    "def rotateorg(origin, point, degrees):\n",
    "    return np.add(rotate(np.add(point, -origin), degrees), origin)"
   ]
  },
  {
   "cell_type": "markdown",
   "metadata": {
    "collapsed": true
   },
   "source": [
    "#### Exercise 4\n",
    "Write a function `proj(v, u)` that returns the projection of v onto u."
   ]
  },
  {
   "cell_type": "code",
   "execution_count": 4,
   "metadata": {
    "collapsed": true
   },
   "outputs": [],
   "source": [
    "def proj(v, u):\n",
    "    return (np.dot(v, u) / (np.dot(np.linalg.norm(u), np.linalg.norm(u)))) * u"
   ]
  },
  {
   "cell_type": "markdown",
   "metadata": {},
   "source": [
    "#### Exercise 5\n",
    "Write a function `kirchhoff(G)` that implements [Kirchhoff's Theorem](https://en.wikipedia.org/wiki/Kirchhoff's_theorem) and returns the number of spannig trees of `G`. Kirchoffs Theorem relies on constructing the [Laplacian Matrix](https://en.wikipedia.org/wiki/Laplacian_matrix) from the graph that is equal to the difference between the graph's degree matrix(a diagonal matrix with the vertex degrees on the diagonal) and the adjacency matrix. The theorem states that the number of spanning trees of the graph is *any* cofactor of the matrix or the product of the non-zero eigenvalues divided by $n$."
   ]
  },
  {
   "cell_type": "code",
   "execution_count": 5,
   "metadata": {
    "collapsed": true
   },
   "outputs": [],
   "source": [
    "def kirchhoff(G):\n",
    "    laplace = (np.diag(np.sum(G, axis=1)) - G)\n",
    "    return np.linalg.det(laplace[1:,1:])\n",
    "    "
   ]
  },
  {
   "cell_type": "markdown",
   "metadata": {},
   "source": [
    "## Statistics"
   ]
  },
  {
   "cell_type": "markdown",
   "metadata": {},
   "source": [
    "#### Exercise 6\n",
    "Choose randomly 1000 integers from a uniform distribution between 100 and 200. Calculate the mean, min, max, variance and standard deviation of this sample."
   ]
  },
  {
   "cell_type": "code",
   "execution_count": 6,
   "metadata": {
    "collapsed": true
   },
   "outputs": [],
   "source": [
    "arr = np.random.randint(100, 201, 1000)"
   ]
  },
  {
   "cell_type": "code",
   "execution_count": 7,
   "metadata": {},
   "outputs": [
    {
     "data": {
      "text/plain": [
       "(151.13399999999999, 100, 200, 808.69604400000003, 28.437581542740233)"
      ]
     },
     "execution_count": 7,
     "metadata": {},
     "output_type": "execute_result"
    }
   ],
   "source": [
    "arr.mean(), arr.min(), arr.max(), arr.var(), arr.std()\n"
   ]
  },
  {
   "cell_type": "markdown",
   "metadata": {},
   "source": [
    "#### Exercise 7\n",
    "Simulate \"expected number of heads when tossing a coin twice\" by plotting a Probability Mass Function"
   ]
  },
  {
   "cell_type": "code",
   "execution_count": 8,
   "metadata": {},
   "outputs": [
    {
     "data": {
      "image/png": "[encoded data removed]",
      "text/plain": [
       "<matplotlib.figure.Figure at 0x11307cda0>"
      ]
     },
     "metadata": {},
     "output_type": "display_data"
    }
   ],
   "source": [
    "import numpy as np\n",
    "import pandas as pd\n",
    "import matplotlib.pyplot as plt\n",
    "\n",
    "sample = [np.random.randint(0,2,2).sum() for _ in range(1000)]\n",
    "val, count = np.unique(sample, return_counts=True)\n",
    "pmf = count / 1000\n",
    "pd.DataFrame(pmf).plot(kind='bar')\n",
    "plt.show()"
   ]
  },
  {
   "cell_type": "markdown",
   "metadata": {},
   "source": [
    "#### Exercise 8\n",
    "Compute the expected value of throwing a dice a large number of times and confirm that by running a simulation"
   ]
  },
  {
   "cell_type": "code",
   "execution_count": 9,
   "metadata": {},
   "outputs": [
    {
     "name": "stdout",
     "output_type": "stream",
     "text": [
      "3.5145145145145147\n"
     ]
    }
   ],
   "source": [
    "#expected value should be 3.5\n",
    "\n",
    "tosses = [np.random.randint(1,7) for _ in range(1000)]\n",
    "expectations = [sum(tosses[:n]) / n  for n in range(1, 1000)]\n",
    "print(expectations[-1])"
   ]
  },
  {
   "cell_type": "code",
   "execution_count": null,
   "metadata": {
    "collapsed": true
   },
   "outputs": [],
   "source": [
    "\n"
   ]
  }
 ],
 "metadata": {
  "anaconda-cloud": {},
  "kernelspec": {
   "display_name": "Python 3",
   "language": "python",
   "name": "python3"
  },
  "language_info": {
   "codemirror_mode": {
    "name": "ipython",
    "version": 3
   },
   "file_extension": ".py",
   "mimetype": "text/x-python",
   "name": "python",
   "nbconvert_exporter": "python",
   "pygments_lexer": "ipython3",
   "version": "3.6.3"
  }
 },
 "nbformat": 4,
 "nbformat_minor": 2
}

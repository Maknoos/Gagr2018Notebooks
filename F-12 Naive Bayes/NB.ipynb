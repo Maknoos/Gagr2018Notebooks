{
 "cells": [
  {
   "cell_type": "code",
   "execution_count": 12,
   "metadata": {},
   "outputs": [
    {
     "data": {
      "text/plain": [
       "[['1', 'Hazard played the game of his life'],\n",
       " ['1', 'Gylfi showed ball controll matched only by the gods themselves'],\n",
       " ['0', 'Rooney is burned out, he should have retired at Manchester'],\n",
       " ['1', 'Stoke played a stellar game'],\n",
       " ['0',\n",
       "  'Liverpool need to work harder on set pieces if they want a chance and the Champions league'],\n",
       " ['0', 'Manchester city just signed Axel Bjornsson. What were they thinking'],\n",
       " ['1', 'Hart managed to keep a clean sheet against his old club'],\n",
       " ['0', 'Gylfi just showed his worst performance of the season'],\n",
       " ['1', 'Spurs have done it again'],\n",
       " ['0', 'Aron Can just broke Gylfi goal record in La Liga'],\n",
       " ['1', 'Thor Akureyri have won the Champions League']]"
      ]
     },
     "execution_count": 12,
     "metadata": {},
     "output_type": "execute_result"
    }
   ],
   "source": [
    "from collections import Counter\n",
    "from itertools import chain\n",
    "import csv\n",
    "\n",
    "#We start by importing the Headlines.csv file\n",
    "\n",
    "with open('Headlines.csv') as f:\n",
    "    headlines = list(csv.reader(f))[1:]\n",
    "headlines"
   ]
  },
  {
   "cell_type": "code",
   "execution_count": 13,
   "metadata": {},
   "outputs": [
    {
     "name": "stdout",
     "output_type": "stream",
     "text": [
      "6\n",
      "5\n"
     ]
    }
   ],
   "source": [
    "#We check how many positive and how many negative headlines there are\n",
    "\n",
    "posHeadlines = sum(1 for i in headlines if i[0] == '1')\n",
    "print(posHeadlines)\n",
    "negHeadlines = sum(1 for i in headlines if i[0] == '0')\n",
    "print(negHeadlines)"
   ]
  },
  {
   "cell_type": "code",
   "execution_count": 20,
   "metadata": {},
   "outputs": [
    {
     "data": {
      "text/plain": [
       "[('the', 3),\n",
       " ('played', 2),\n",
       " ('game', 2),\n",
       " ('his', 2),\n",
       " ('a', 2),\n",
       " ('have', 2),\n",
       " ('hazard', 1),\n",
       " ('of', 1),\n",
       " ('life', 1),\n",
       " ('gylfi', 1),\n",
       " ('showed', 1),\n",
       " ('ball', 1),\n",
       " ('controll', 1),\n",
       " ('matched', 1),\n",
       " ('only', 1),\n",
       " ('by', 1),\n",
       " ('gods', 1),\n",
       " ('themselves', 1),\n",
       " ('stoke', 1),\n",
       " ('stellar', 1),\n",
       " ('hart', 1),\n",
       " ('managed', 1),\n",
       " ('to', 1),\n",
       " ('keep', 1),\n",
       " ('clean', 1),\n",
       " ('sheet', 1),\n",
       " ('against', 1),\n",
       " ('old', 1),\n",
       " ('club', 1),\n",
       " ('spurs', 1),\n",
       " ('done', 1),\n",
       " ('it', 1),\n",
       " ('again', 1),\n",
       " ('thor', 1),\n",
       " ('akureyri', 1),\n",
       " ('won', 1),\n",
       " ('champions', 1),\n",
       " ('league', 1)]"
      ]
     },
     "execution_count": 20,
     "metadata": {},
     "output_type": "execute_result"
    }
   ],
   "source": [
    "#We break the positive and negative reviews down and count the occurance of each word and use counter to count them\n",
    "\n",
    "goodwords = chain(*[list(map(str.lower, headline[1].split())) for headline in headlines if headline[0] == '1'])\n",
    "badwords = chain(*[list(map(str.lower, headline[1].split())) for headline in headlines if headline[0] == '0'])\n",
    "\n",
    "goodwordcount = Counter(goodwords)\n",
    "badwordcount = Counter(badwords)\n",
    "\n",
    "#print(goodwordcount)\n",
    "#print(badwordcount)\n",
    "#badwordcount.most_common()\n",
    "goodwordcount.most_common()"
   ]
  },
  {
   "cell_type": "code",
   "execution_count": 19,
   "metadata": {},
   "outputs": [
    {
     "name": "stdout",
     "output_type": "stream",
     "text": [
      "Amount of positive words:  45\n",
      "Amount of negative words:  56\n",
      "Probability of a positive headline:  5.911885198579299e-09\n",
      "Total amount of words:  88\n",
      "Probability of a positive headline:  6.291317424070245e-10\n",
      "Probability of a negative headline:  8.809395430355219e-11\n",
      "Hazard showed Gylfi his life is most likely a positive headline\n"
     ]
    }
   ],
   "source": [
    "#The likelyhood of the sentense: \"Hazard showed Gylfi his life\" being a positive headline\n",
    "#We know from above that the probability of a positive headline is 6/11 and the probability of a negative one is 5/11\n",
    "#Now let's find how many words are in the positive and negative sentences\n",
    "posCount = 0\n",
    "for i in headlines:\n",
    "    if i[0] == '1':\n",
    "        posCount = posCount + len(i[1].split())\n",
    "print(\"Amount of positive words: \", posCount)\n",
    "\n",
    "negCount = 0\n",
    "for i in headlines:\n",
    "    if i[0] == '0':\n",
    "        negCount = negCount + len(i[1].split())\n",
    "print(\"Amount of negative words: \", negCount)\n",
    "\n",
    "\n",
    "#Now that we know the probability of a positive and negative headline, \n",
    "#The total number of words in all positive and negative headlines\n",
    "#And the frequency of words in positive and negative reviews we can compute using Naive Bayes\n",
    "#We have from above that the words: {\"hazard\", \"showed\", \"life\", \"Gylfi\"} each appera once and \"his\" appears twice \n",
    "#in positive reviews\n",
    "#that gives us the probabilities of 0/45*1/45*1/45*1/45*2/45\n",
    "posProb = 1/45*1/45*1/45*1/45*2/45*6/11\n",
    "print(\"Probability of a positive headline: \", posProb)\n",
    "\n",
    "#We also have from above that the words: {\"hazard\", \"life\"} never appear, {\"showed\", \"his\"} appear once\n",
    "#And \"Gylfi\" appereas twice\n",
    "#But, since we have an occurence of zero we need to apply smothing. We need to find the total number of words:\n",
    "totalWords = len(badwordcount.most_common()) + len(goodwordcount.most_common())\n",
    "print(\"Total amount of words: \", totalWords)\n",
    "\n",
    "#Now we change the positive probability to: \n",
    "posProb = (1+1)/(45+88) * (1+1)/(45+88) * (1+1)/(45+88) * (1+1)/(45+88) * (2+1)/(45+88) * 6/11\n",
    "\n",
    "#And the negative probability becomes: \n",
    "negProb = (1+0)/(56+88) * (1+0)/(56+88) * (1+1)/(56+88) * (1+1)/(56+88) * (1+2)/(56+88) * 5/11\n",
    "\n",
    "print(\"Probability of a positive headline: \", posProb)\n",
    "print(\"Probability of a negative headline: \", negProb)\n",
    "\n",
    "if posProb > negProb:\n",
    "    print(\"Hazard showed Gylfi his life is most likely a positive headline\")\n",
    "else:\n",
    "    print(\"Hazard showed Gylfi his life is most likely a negative headline\")"
   ]
  },
  {
   "cell_type": "code",
   "execution_count": null,
   "metadata": {
    "collapsed": true
   },
   "outputs": [],
   "source": []
  },
  {
   "cell_type": "code",
   "execution_count": null,
   "metadata": {
    "collapsed": true
   },
   "outputs": [],
   "source": []
  },
  {
   "cell_type": "code",
   "execution_count": null,
   "metadata": {
    "collapsed": true
   },
   "outputs": [],
   "source": []
  }
 ],
 "metadata": {
  "kernelspec": {
   "display_name": "Python 3",
   "language": "python",
   "name": "python3"
  },
  "language_info": {
   "codemirror_mode": {
    "name": "ipython",
    "version": 3
   },
   "file_extension": ".py",
   "mimetype": "text/x-python",
   "name": "python",
   "nbconvert_exporter": "python",
   "pygments_lexer": "ipython3",
   "version": "3.6.3"
  }
 },
 "nbformat": 4,
 "nbformat_minor": 2
}

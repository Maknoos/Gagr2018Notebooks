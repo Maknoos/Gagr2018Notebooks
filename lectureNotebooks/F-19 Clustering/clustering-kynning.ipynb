{
 "cells": [
  {
   "cell_type": "code",
   "execution_count": 1,
   "metadata": {
    "collapsed": true
   },
   "outputs": [],
   "source": [
    "import numpy as np\n",
    "import pandas as pd\n",
    "from sklearn import cluster\n",
    "import matplotlib.pyplot as plt\n",
    "%matplotlib inline"
   ]
  },
  {
   "cell_type": "markdown",
   "metadata": {},
   "source": [
    "## Monsters and Men\n",
    "We have a dataset that contains information about 30 individuals. The variables/features of each individual is as follows:\n",
    "* height in m \n",
    "* weight in kg\n",
    "* bodyfat percentage\n",
    "* species \n",
    "  * monster or human.\n",
    "  \n",
    "*Code used as reference when creating this notebook can be found here:* https://www.kaggle.com/tonzowonzo/simple-k-means-clustering-on-the-iris-dataset\n",
    "\n",
    "*More info on the sklearn.cluster library can be found here:* http://scikit-learn.org/stable/modules/clustering.html"
   ]
  },
  {
   "cell_type": "code",
   "execution_count": 2,
   "metadata": {},
   "outputs": [
    {
     "data": {
      "text/html": [
       "<div>\n",
       "<style>\n",
       "    .dataframe thead tr:only-child th {\n",
       "        text-align: right;\n",
       "    }\n",
       "\n",
       "    .dataframe thead th {\n",
       "        text-align: left;\n",
       "    }\n",
       "\n",
       "    .dataframe tbody tr th {\n",
       "        vertical-align: top;\n",
       "    }\n",
       "</style>\n",
       "<table border=\"1\" class=\"dataframe\">\n",
       "  <thead>\n",
       "    <tr style=\"text-align: right;\">\n",
       "      <th></th>\n",
       "      <th>height_m</th>\n",
       "      <th>weight_kg</th>\n",
       "      <th>bodyfat_%</th>\n",
       "      <th>species</th>\n",
       "    </tr>\n",
       "  </thead>\n",
       "  <tbody>\n",
       "    <tr>\n",
       "      <th>0</th>\n",
       "      <td>1.80</td>\n",
       "      <td>77</td>\n",
       "      <td>12</td>\n",
       "      <td>human</td>\n",
       "    </tr>\n",
       "    <tr>\n",
       "      <th>1</th>\n",
       "      <td>1.90</td>\n",
       "      <td>80</td>\n",
       "      <td>22</td>\n",
       "      <td>human</td>\n",
       "    </tr>\n",
       "    <tr>\n",
       "      <th>2</th>\n",
       "      <td>1.65</td>\n",
       "      <td>63</td>\n",
       "      <td>15</td>\n",
       "      <td>human</td>\n",
       "    </tr>\n",
       "    <tr>\n",
       "      <th>3</th>\n",
       "      <td>2.10</td>\n",
       "      <td>93</td>\n",
       "      <td>19</td>\n",
       "      <td>human</td>\n",
       "    </tr>\n",
       "    <tr>\n",
       "      <th>4</th>\n",
       "      <td>1.76</td>\n",
       "      <td>73</td>\n",
       "      <td>25</td>\n",
       "      <td>human</td>\n",
       "    </tr>\n",
       "  </tbody>\n",
       "</table>\n",
       "</div>"
      ],
      "text/plain": [
       "   height_m  weight_kg  bodyfat_% species\n",
       "0      1.80         77         12   human\n",
       "1      1.90         80         22   human\n",
       "2      1.65         63         15   human\n",
       "3      2.10         93         19   human\n",
       "4      1.76         73         25   human"
      ]
     },
     "execution_count": 2,
     "metadata": {},
     "output_type": "execute_result"
    }
   ],
   "source": [
    "df = pd.read_csv(\"monsters_and_men.csv\")\n",
    "df.head()"
   ]
  },
  {
   "cell_type": "markdown",
   "metadata": {},
   "source": [
    "### Let's see how the data is distributed by plotting them\n",
    "Let's pick two columns with the most variance from one another; *height_m* and *weight_kg*.\n",
    "\n",
    "Keep in mind that even though we can only plot the data on a 2D graph using two columns, the data might be even farther apart in a higher dimensional space than it is in 2D space."
   ]
  },
  {
   "cell_type": "code",
   "execution_count": 3,
   "metadata": {},
   "outputs": [
    {
     "data": {
      "image/png": "[encoded data removed]",
      "text/plain": [
       "<matplotlib.figure.Figure at 0x1917c856e80>"
      ]
     },
     "metadata": {},
     "output_type": "display_data"
    }
   ],
   "source": [
    "# getting x and y axes\n",
    "height = df['height_m']\n",
    "weight = df['weight_kg']\n",
    "\n",
    "# configuring the figure\n",
    "fig = plt.figure(figsize=(10, 6))\n",
    "ax = fig.add_subplot(111)\n",
    "\n",
    "# label and plot the data\n",
    "ax.scatter(x=height,y=weight)\n",
    "plt.xlabel('height m')\n",
    "plt.ylabel('weight kg')\n",
    "plt.show()"
   ]
  },
  {
   "cell_type": "markdown",
   "metadata": {},
   "source": [
    "## Is he/she a monster or a human?\n",
    "Let's find out if an individual is either a monster or a human by using clustering.\n",
    "\n",
    "First let's drop the \"species\" column from the dataframe, because both clustering algorithms we're going to use unsupervised learning algorithms. So we don't want to know the species beforehand."
   ]
  },
  {
   "cell_type": "code",
   "execution_count": 4,
   "metadata": {},
   "outputs": [
    {
     "data": {
      "text/html": [
       "<div>\n",
       "<style>\n",
       "    .dataframe thead tr:only-child th {\n",
       "        text-align: right;\n",
       "    }\n",
       "\n",
       "    .dataframe thead th {\n",
       "        text-align: left;\n",
       "    }\n",
       "\n",
       "    .dataframe tbody tr th {\n",
       "        vertical-align: top;\n",
       "    }\n",
       "</style>\n",
       "<table border=\"1\" class=\"dataframe\">\n",
       "  <thead>\n",
       "    <tr style=\"text-align: right;\">\n",
       "      <th></th>\n",
       "      <th>height_m</th>\n",
       "      <th>weight_kg</th>\n",
       "      <th>bodyfat_%</th>\n",
       "    </tr>\n",
       "  </thead>\n",
       "  <tbody>\n",
       "    <tr>\n",
       "      <th>0</th>\n",
       "      <td>1.80</td>\n",
       "      <td>77</td>\n",
       "      <td>12</td>\n",
       "    </tr>\n",
       "    <tr>\n",
       "      <th>1</th>\n",
       "      <td>1.90</td>\n",
       "      <td>80</td>\n",
       "      <td>22</td>\n",
       "    </tr>\n",
       "    <tr>\n",
       "      <th>2</th>\n",
       "      <td>1.65</td>\n",
       "      <td>63</td>\n",
       "      <td>15</td>\n",
       "    </tr>\n",
       "    <tr>\n",
       "      <th>3</th>\n",
       "      <td>2.10</td>\n",
       "      <td>93</td>\n",
       "      <td>19</td>\n",
       "    </tr>\n",
       "    <tr>\n",
       "      <th>4</th>\n",
       "      <td>1.76</td>\n",
       "      <td>73</td>\n",
       "      <td>25</td>\n",
       "    </tr>\n",
       "  </tbody>\n",
       "</table>\n",
       "</div>"
      ],
      "text/plain": [
       "   height_m  weight_kg  bodyfat_%\n",
       "0      1.80         77         12\n",
       "1      1.90         80         22\n",
       "2      1.65         63         15\n",
       "3      2.10         93         19\n",
       "4      1.76         73         25"
      ]
     },
     "execution_count": 4,
     "metadata": {},
     "output_type": "execute_result"
    }
   ],
   "source": [
    "# dropping the species column\n",
    "df = df.drop(\"species\", axis=1)\n",
    "df.head()"
   ]
  },
  {
   "cell_type": "markdown",
   "metadata": {},
   "source": [
    "### Normalize the data\n",
    "But as you've probably noticed, the columns change differently between rows.\n",
    "\n",
    "Let's make sure that the columns that change by large amounts will not be the ruling factor in which cluster an individual is put into.\n",
    "\n",
    "We'll do this by normalizing the data."
   ]
  },
  {
   "cell_type": "code",
   "execution_count": 5,
   "metadata": {},
   "outputs": [
    {
     "data": {
      "text/html": [
       "<div>\n",
       "<style>\n",
       "    .dataframe thead tr:only-child th {\n",
       "        text-align: right;\n",
       "    }\n",
       "\n",
       "    .dataframe thead th {\n",
       "        text-align: left;\n",
       "    }\n",
       "\n",
       "    .dataframe tbody tr th {\n",
       "        vertical-align: top;\n",
       "    }\n",
       "</style>\n",
       "<table border=\"1\" class=\"dataframe\">\n",
       "  <thead>\n",
       "    <tr style=\"text-align: right;\">\n",
       "      <th></th>\n",
       "      <th>height_m</th>\n",
       "      <th>weight_kg</th>\n",
       "      <th>bodyfat_%</th>\n",
       "    </tr>\n",
       "  </thead>\n",
       "  <tbody>\n",
       "    <tr>\n",
       "      <th>0</th>\n",
       "      <td>0.102459</td>\n",
       "      <td>0.342246</td>\n",
       "      <td>0.053763</td>\n",
       "    </tr>\n",
       "    <tr>\n",
       "      <th>1</th>\n",
       "      <td>0.143443</td>\n",
       "      <td>0.358289</td>\n",
       "      <td>0.161290</td>\n",
       "    </tr>\n",
       "    <tr>\n",
       "      <th>2</th>\n",
       "      <td>0.040984</td>\n",
       "      <td>0.267380</td>\n",
       "      <td>0.086022</td>\n",
       "    </tr>\n",
       "    <tr>\n",
       "      <th>3</th>\n",
       "      <td>0.225410</td>\n",
       "      <td>0.427807</td>\n",
       "      <td>0.129032</td>\n",
       "    </tr>\n",
       "    <tr>\n",
       "      <th>4</th>\n",
       "      <td>0.086066</td>\n",
       "      <td>0.320856</td>\n",
       "      <td>0.193548</td>\n",
       "    </tr>\n",
       "  </tbody>\n",
       "</table>\n",
       "</div>"
      ],
      "text/plain": [
       "   height_m  weight_kg  bodyfat_%\n",
       "0  0.102459   0.342246   0.053763\n",
       "1  0.143443   0.358289   0.161290\n",
       "2  0.040984   0.267380   0.086022\n",
       "3  0.225410   0.427807   0.129032\n",
       "4  0.086066   0.320856   0.193548"
      ]
     },
     "execution_count": 5,
     "metadata": {},
     "output_type": "execute_result"
    }
   ],
   "source": [
    "# getting the numerator and denominator\n",
    "num = df - df.min()\n",
    "denom = df.max() - df.min()\n",
    "\n",
    "# using the feature scaling eqution to create a dataframe with normalized variables/features\n",
    "df_norm = num / denom\n",
    "\n",
    "df_norm.head()"
   ]
  },
  {
   "cell_type": "markdown",
   "metadata": {},
   "source": [
    "### Hierarchical clustering \n",
    "Let's find out which observations belong to which species by using hierarchical clustering!\n",
    "\n",
    "Note that we know enough about the data to decide at what number of clusters should the algorithm stop merging clusters"
   ]
  },
  {
   "cell_type": "code",
   "execution_count": 6,
   "metadata": {},
   "outputs": [
    {
     "data": {
      "text/plain": [
       "array([1, 1, 1, 1, 1, 1, 1, 1, 1, 1, 1, 1, 1, 1, 1, 0, 0, 0, 0, 0, 0, 0, 0,\n",
       "       0, 0, 0, 0, 0, 0, 0], dtype=int64)"
      ]
     },
     "execution_count": 6,
     "metadata": {},
     "output_type": "execute_result"
    }
   ],
   "source": [
    "# create a hierarchical clustering object using the average linkage criterion and 2 clusters\n",
    "hier_model = cluster.AgglomerativeClustering(n_clusters=2, linkage='average')\n",
    "\n",
    "# apply the clustering algorithm which will return an numpy array where each datapoint has been given a cluster index\n",
    "cluster_indices = hier_model.fit_predict(df_norm)\n",
    "cluster_indices"
   ]
  },
  {
   "cell_type": "code",
   "execution_count": 7,
   "metadata": {},
   "outputs": [
    {
     "data": {
      "image/png": "[encoded data removed]",
      "text/plain": [
       "<matplotlib.figure.Figure at 0x1917cb6cd30>"
      ]
     },
     "metadata": {},
     "output_type": "display_data"
    }
   ],
   "source": [
    "# get numpy array with the dataframes values\n",
    "df_values = df_norm.values\n",
    "\n",
    "# configure the figure\n",
    "fig = plt.figure(figsize=(10, 6))\n",
    "ax = fig.add_subplot(111)\n",
    "\n",
    "# plot it with the right indices for each cluster\n",
    "ax.scatter(df_values[cluster_indices  == 0, 0], df_values[cluster_indices  == 0, 1], c = 'blue', label = 'Monster')\n",
    "ax.scatter(df_values[cluster_indices  == 1, 0], df_values[cluster_indices  == 1, 1], c = 'red', label = 'Human')\n",
    "#ax.scatter(df_values[cluster_indices  == 2, 0], df_values[cluster_indices  == 2, 1], c = 'green', label = 'Some other species')\n",
    "\n",
    "plt.legend(loc='lower right')\n",
    "\n",
    "plt.show()"
   ]
  },
  {
   "cell_type": "markdown",
   "metadata": {},
   "source": [
    "### K-Means clustering\n",
    "Let's find out which observations belong to which species by using k-means clustering!\n",
    "\n",
    "But instead of hardcoding in the value of *k* (the number of clusters), let's use:\n",
    "#### The Elbow Method\n",
    "to find the appropriate value of *k*.\n",
    "\n",
    "So let's calculate the *SSE* for each *k* in the range, let's say 1-10 sounds like a good number. Plot it and find the elbow in the graph!"
   ]
  },
  {
   "cell_type": "code",
   "execution_count": 8,
   "metadata": {},
   "outputs": [
    {
     "data": {
      "image/png": "[encoded data removed]",
      "text/plain": [
       "<matplotlib.figure.Figure at 0x1917cb7d128>"
      ]
     },
     "metadata": {},
     "output_type": "display_data"
    }
   ],
   "source": [
    "# initlize a list to hold onto each sse\n",
    "sse = []\n",
    "\n",
    "# run through each k, get and save each sse\n",
    "for k in range(1, 11):\n",
    "    # run through the k-means algorithm using 'k-means++' for smart initalization of centroids to speed up the process\n",
    "    kmeans = cluster.KMeans(n_clusters = k, init = 'k-means++', max_iter = 50)\n",
    "    kmeans.fit(df.values)\n",
    "    # kmeans.inertia_ gives you the sse from the kmeans model\n",
    "    sse.append(kmeans.inertia_)\n",
    "\n",
    "# plot it\n",
    "plt.plot(range(1, 11), sse)\n",
    "plt.xticks(np.arange(0, 11, 1.0))\n",
    "plt.title('The Elbow Method')\n",
    "plt.xlabel('Number of clusters k')\n",
    "plt.ylabel('SSE') \n",
    "plt.show()\n",
    "\n",
    "# the elbow is clearly visible and 2 clusters is the appropriate value of k\n",
    "k = 2"
   ]
  },
  {
   "cell_type": "markdown",
   "metadata": {},
   "source": [
    "### Alright, we found the optimum value of *k*! Let's run the algorithm and plot the results"
   ]
  },
  {
   "cell_type": "code",
   "execution_count": 9,
   "metadata": {},
   "outputs": [
    {
     "data": {
      "image/png": "[encoded data removed]",
      "text/plain": [
       "<matplotlib.figure.Figure at 0x1917cbef320>"
      ]
     },
     "metadata": {},
     "output_type": "display_data"
    }
   ],
   "source": [
    "# create a kmeans clustering object using the newly found k\n",
    "kmeans_model = cluster.KMeans(n_clusters = k)\n",
    "cluster_indices = kmeans_model.fit_predict(df_norm)\n",
    "\n",
    "# configure again\n",
    "fig = plt.figure(figsize=(10, 6))\n",
    "ax = fig.add_subplot(111)\n",
    "\n",
    "# plot each cluster\n",
    "ax.scatter(df_values[cluster_indices  == 0, 0], df_values[cluster_indices  == 0, 1], c = 'blue', label = 'Monster')\n",
    "ax.scatter(df_values[cluster_indices  == 1, 0], df_values[cluster_indices  == 1, 1], c = 'red', label = 'Human')\n",
    "\n",
    "# plot the cetroids as well\n",
    "ax.scatter(kmeans_model.cluster_centers_[:, 0], kmeans_model.cluster_centers_[:,1], s = 100, c = 'black', marker='x', label = 'Centroids')\n",
    "\n",
    "plt.legend(loc='lower right')\n",
    "\n",
    "plt.show()"
   ]
  },
  {
   "cell_type": "code",
   "execution_count": null,
   "metadata": {
    "collapsed": true
   },
   "outputs": [],
   "source": []
  }
 ],
 "metadata": {
  "kernelspec": {
   "display_name": "Python 3",
   "language": "python",
   "name": "python3"
  },
  "language_info": {
   "codemirror_mode": {
    "name": "ipython",
    "version": 3
   },
   "file_extension": ".py",
   "mimetype": "text/x-python",
   "name": "python",
   "nbconvert_exporter": "python",
   "pygments_lexer": "ipython3",
   "version": "3.6.3"
  }
 },
 "nbformat": 4,
 "nbformat_minor": 2
}
